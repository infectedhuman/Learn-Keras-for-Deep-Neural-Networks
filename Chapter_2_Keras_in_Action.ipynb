{
  "nbformat": 4,
  "nbformat_minor": 0,
  "metadata": {
    "colab": {
      "name": "Chapter 2 - Keras in Action",
      "provenance": [],
      "collapsed_sections": []
    },
    "kernelspec": {
      "name": "python3",
      "display_name": "Python 3"
    },
    "language_info": {
      "name": "python"
    }
  },
  "cells": [
    {
      "cell_type": "code",
      "execution_count": 3,
      "metadata": {
        "id": "QG-klbbIx_u_"
      },
      "outputs": [],
      "source": [
        "from keras.models import Sequential\n",
        "from keras.layers import Dense, Activation\n",
        "\n",
        "model=Sequential()\n",
        "model.add(Dense(10, input_dim=15))"
      ]
    },
    {
      "cell_type": "code",
      "source": [
        "model=Sequential()\n",
        "model.add(Dense(5,input_dim=10, activation='sigmoid'))\n",
        "model.add(Dense(1, activation=\"sigmoid\"))\n"
      ],
      "metadata": {
        "id": "-1xmUzqnyjgp"
      },
      "execution_count": 4,
      "outputs": []
    },
    {
      "cell_type": "code",
      "source": [
        "from keras.layers import Dropout\n",
        "model=Sequential()\n",
        "model.add(Dense(5, input_dim=3, activation=\"sigmoid\"))\n",
        "model.add(Dropout(rate=0.1,seed=100))\n",
        "model.add(Dense(1,activation=\"sigmoid\"))"
      ],
      "metadata": {
        "id": "uGvlp85TzW1A"
      },
      "execution_count": 7,
      "outputs": []
    },
    {
      "cell_type": "code",
      "source": [
        "from keras.datasets import boston_housing\n",
        "(x_train, y_train),(x_test, y_test) = boston_housing.load_data()"
      ],
      "metadata": {
        "colab": {
          "base_uri": "https://localhost:8080/"
        },
        "id": "83ul639izfD2",
        "outputId": "8c166a67-bc3a-4d2d-bb17-85fa239d9c3f"
      },
      "execution_count": 8,
      "outputs": [
        {
          "output_type": "stream",
          "name": "stdout",
          "text": [
            "Downloading data from https://storage.googleapis.com/tensorflow/tf-keras-datasets/boston_housing.npz\n",
            "57344/57026 [==============================] - 0s 0us/step\n",
            "65536/57026 [==================================] - 0s 0us/step\n"
          ]
        }
      ]
    },
    {
      "cell_type": "code",
      "source": [
        "import numpy as np\n",
        "from keras.models import Sequential\n",
        "from keras.layers import Dense, Activation\n",
        "\n",
        "from numpy.random import seed\n",
        "seed(2018)\n",
        "\n",
        "\n",
        "\n",
        "x_train = np.random.random((6000,10))\n",
        "y_train=np.random.randint(2,size=(6000,1))\n",
        "\n",
        "x_test=np.random.random((2000,10))\n",
        "y_test=np.random.randint(2, size=(2000,1))\n",
        "\n",
        "x_val=np.random.random((2000,10))\n",
        "y_val=np.random.randint(2, size=(2000,1))\n",
        "\n",
        "model=Sequential()\n",
        "model.add(Dense(64,input_dim=10,activation='relu'))\n",
        "model.add(Dense(32,activation=\"relu\"))\n",
        "model.add(Dense(16,activation=\"relu\"))\n",
        "model.add(Dense(8,activation=\"relu\"))\n",
        "model.add(Dense(4,activation=\"relu\"))\n",
        "model.add(Dense(1,activation=\"sigmoid\"))\n",
        "\n",
        "model.compile(optimizer=\"adam\",metrics=[\"accuracy\"], loss=\"binary_crossentropy\")\n",
        "model.fit(x_train,y_train, batch_size=64, epochs=3,validation_data=(x_val,y_val))"
      ],
      "metadata": {
        "colab": {
          "base_uri": "https://localhost:8080/"
        },
        "id": "pV_M-3k80cwX",
        "outputId": "c486f1f0-796c-4653-bd36-d815dbc968f7"
      },
      "execution_count": 20,
      "outputs": [
        {
          "output_type": "stream",
          "name": "stdout",
          "text": [
            "Epoch 1/3\n",
            "94/94 [==============================] - 1s 5ms/step - loss: 0.6932 - accuracy: 0.4942 - val_loss: 0.6930 - val_accuracy: 0.5220\n",
            "Epoch 2/3\n",
            "94/94 [==============================] - 0s 3ms/step - loss: 0.6931 - accuracy: 0.4982 - val_loss: 0.6930 - val_accuracy: 0.5160\n",
            "Epoch 3/3\n",
            "94/94 [==============================] - 0s 3ms/step - loss: 0.6930 - accuracy: 0.5073 - val_loss: 0.6934 - val_accuracy: 0.5060\n"
          ]
        },
        {
          "output_type": "execute_result",
          "data": {
            "text/plain": [
              "<keras.callbacks.History at 0x7fbdfbf74450>"
            ]
          },
          "metadata": {},
          "execution_count": 20
        }
      ]
    },
    {
      "cell_type": "code",
      "source": [
        "print(x_train[:10])\n",
        "print('sdf')\n",
        "print(x_val[:10])\n"
      ],
      "metadata": {
        "colab": {
          "base_uri": "https://localhost:8080/"
        },
        "id": "T5P9O36r0lAG",
        "outputId": "5d2ef649-c0ea-45a6-c8a6-efdad73b2bcf"
      },
      "execution_count": 21,
      "outputs": [
        {
          "output_type": "stream",
          "name": "stdout",
          "text": [
            "[[0.88234931 0.10432774 0.90700933 0.3063989  0.44640887 0.58998539\n",
            "  0.8371111  0.69780061 0.80280284 0.10721508]\n",
            " [0.75709253 0.99967101 0.725931   0.14144824 0.3567206  0.94270411\n",
            "  0.61016189 0.22757747 0.66873237 0.69290455]\n",
            " [0.41686251 0.17180956 0.97689051 0.33022414 0.62904415 0.16061095\n",
            "  0.08995264 0.97082236 0.81657757 0.57136573]\n",
            " [0.34585315 0.403744   0.13738304 0.90093449 0.93393613 0.04737714\n",
            "  0.67150688 0.03483186 0.25269136 0.55712505]\n",
            " [0.52582348 0.35296779 0.09298297 0.30450898 0.86242986 0.71693654\n",
            "  0.96407149 0.53970186 0.95053982 0.66798156]\n",
            " [0.87424103 0.48120492 0.13739854 0.69022154 0.50211855 0.07451108\n",
            "  0.52351229 0.91856772 0.5274287  0.36424787]\n",
            " [0.92818629 0.49269142 0.23640703 0.53141538 0.16525533 0.371387\n",
            "  0.74225181 0.23704057 0.39196365 0.05938974]\n",
            " [0.10276893 0.55725012 0.81930231 0.48981038 0.90230697 0.49004436\n",
            "  0.00303589 0.84366215 0.54368872 0.13869147]\n",
            " [0.08572875 0.40161209 0.82697863 0.80616256 0.20954603 0.30218791\n",
            "  0.75345933 0.12518232 0.88233405 0.93448737]\n",
            " [0.142472   0.18949702 0.40460224 0.473948   0.09906794 0.47471235\n",
            "  0.84469429 0.79187259 0.35902305 0.74563608]]\n",
            "sdf\n",
            "[[0.18677977 0.82342295 0.82404324 0.44552056 0.50017014 0.37007122\n",
            "  0.7787046  0.87477939 0.93855764 0.71901977]\n",
            " [0.42091843 0.90143581 0.21160731 0.40795857 0.75693907 0.00480348\n",
            "  0.24704024 0.81703769 0.91243595 0.10567475]\n",
            " [0.22242442 0.75719774 0.3069331  0.95620684 0.65538688 0.18740533\n",
            "  0.73408952 0.58321113 0.83544304 0.55015436]\n",
            " [0.73679776 0.43916311 0.97026667 0.08262511 0.75003347 0.92676454\n",
            "  0.93957363 0.68327387 0.00519021 0.77919346]\n",
            " [0.63027894 0.37200115 0.94245386 0.84501215 0.34461961 0.31832482\n",
            "  0.14530123 0.94927761 0.74579003 0.85896945]\n",
            " [0.30462567 0.75300411 0.90743633 0.92422917 0.15088033 0.6619713\n",
            "  0.97971178 0.41753108 0.67090565 0.99058481]\n",
            " [0.20931294 0.02978992 0.71863411 0.20104985 0.02687466 0.33916865\n",
            "  0.49347614 0.11747779 0.13082443 0.1129007 ]\n",
            " [0.94291832 0.17154538 0.76067265 0.95851174 0.80287724 0.68731364\n",
            "  0.70598172 0.54035788 0.38380115 0.54299912]\n",
            " [0.02089867 0.83844147 0.86349904 0.38284735 0.03981755 0.55641639\n",
            "  0.27420573 0.09962225 0.83042093 0.88827912]\n",
            " [0.51687692 0.47331548 0.09511342 0.0251153  0.9813094  0.19465849\n",
            "  0.29280546 0.34097343 0.62219879 0.84281733]]\n"
          ]
        }
      ]
    },
    {
      "cell_type": "code",
      "source": [
        "\n",
        "#Explore the data structure using basic python commands\n",
        "print(\"Type of the Dataset:\",type(y_train))\n",
        "print(\"Shape of training data :\",x_train.shape)\n",
        "print(\"Shape of training labels :\",y_train.shape)\n",
        "print(\"Shape of testing data :\",type(x_test))\n",
        "print(\"Shape of testing labels :\",y_test.shape)"
      ],
      "metadata": {
        "colab": {
          "base_uri": "https://localhost:8080/"
        },
        "id": "JZo5AyMf4u6B",
        "outputId": "e3fbb1ff-cc19-4005-95f6-c9ef4970f13a"
      },
      "execution_count": 22,
      "outputs": [
        {
          "output_type": "stream",
          "name": "stdout",
          "text": [
            "Type of the Dataset: <class 'numpy.ndarray'>\n",
            "Shape of training data : (6000, 10)\n",
            "Shape of training labels : (6000, 1)\n",
            "Shape of testing data : <class 'numpy.ndarray'>\n",
            "Shape of testing labels : (2000, 1)\n"
          ]
        }
      ]
    },
    {
      "cell_type": "code",
      "source": [
        "x_train[:3,:]\n"
      ],
      "metadata": {
        "colab": {
          "base_uri": "https://localhost:8080/"
        },
        "id": "XDWrniEE4ySQ",
        "outputId": "a61f73ce-ed87-4fd1-b092-4f57bb7dbc6c"
      },
      "execution_count": 23,
      "outputs": [
        {
          "output_type": "execute_result",
          "data": {
            "text/plain": [
              "array([[0.88234931, 0.10432774, 0.90700933, 0.3063989 , 0.44640887,\n",
              "        0.58998539, 0.8371111 , 0.69780061, 0.80280284, 0.10721508],\n",
              "       [0.75709253, 0.99967101, 0.725931  , 0.14144824, 0.3567206 ,\n",
              "        0.94270411, 0.61016189, 0.22757747, 0.66873237, 0.69290455],\n",
              "       [0.41686251, 0.17180956, 0.97689051, 0.33022414, 0.62904415,\n",
              "        0.16061095, 0.08995264, 0.97082236, 0.81657757, 0.57136573]])"
            ]
          },
          "metadata": {},
          "execution_count": 23
        }
      ]
    },
    {
      "cell_type": "code",
      "source": [
        "import numpy as np\n",
        "from keras.models import Sequential\n",
        "from keras.layers import Dense, Activation\n",
        "\n",
        "#Extract the last 100 rows from the training data to create the validation datasets.\n",
        "x_val = x_train[300:,]\n",
        "y_val = y_train[300:,]\n",
        "\n",
        "#Define the model architecture\n",
        "model = Sequential()\n",
        "model.add(Dense(13, input_dim=10, kernel_initializer='normal', activation='relu'))\n",
        "model.add(Dense(6, kernel_initializer='normal', activation='relu'))\n",
        "model.add(Dense(1, kernel_initializer='normal'))\n",
        "\n",
        "# Compile model\n",
        "model.compile(loss='mean_squared_error', optimizer='adam', metrics=['mean_absolute_percentage_error'])\n",
        "\n",
        "#Train the model\n",
        "model.fit(x_train, y_train, batch_size=32, epochs=3, validation_data=(x_val,y_val))"
      ],
      "metadata": {
        "colab": {
          "base_uri": "https://localhost:8080/"
        },
        "id": "BPcm-dlF43M6",
        "outputId": "394bca05-6653-441e-a765-850237978b48"
      },
      "execution_count": 27,
      "outputs": [
        {
          "output_type": "stream",
          "name": "stdout",
          "text": [
            "Epoch 1/3\n",
            "188/188 [==============================] - 1s 4ms/step - loss: 0.3293 - mean_absolute_percentage_error: 152694816.0000 - val_loss: 0.2517 - val_mean_absolute_percentage_error: 235749200.0000\n",
            "Epoch 2/3\n",
            "188/188 [==============================] - 1s 4ms/step - loss: 0.2515 - mean_absolute_percentage_error: 246285376.0000 - val_loss: 0.2510 - val_mean_absolute_percentage_error: 243963328.0000\n",
            "Epoch 3/3\n",
            "188/188 [==============================] - 1s 4ms/step - loss: 0.2515 - mean_absolute_percentage_error: 245641536.0000 - val_loss: 0.2507 - val_mean_absolute_percentage_error: 248111984.0000\n"
          ]
        },
        {
          "output_type": "execute_result",
          "data": {
            "text/plain": [
              "<keras.callbacks.History at 0x7fbdfba4f390>"
            ]
          },
          "metadata": {},
          "execution_count": 27
        }
      ]
    },
    {
      "cell_type": "code",
      "source": [
        "result=model.evaluate(x_test, y_test)\n",
        "\n",
        "for i in range(len(model.metrics_names)):\n",
        "  print(model.metrics_names[i],':',result[i])"
      ],
      "metadata": {
        "colab": {
          "base_uri": "https://localhost:8080/"
        },
        "id": "ai4Z0z0_6ABr",
        "outputId": "09cd2389-bd7c-4376-c090-f9b7509ba543"
      },
      "execution_count": 29,
      "outputs": [
        {
          "output_type": "stream",
          "name": "stdout",
          "text": [
            "63/63 [==============================] - 0s 1ms/step - loss: 0.2507 - mean_absolute_percentage_error: 248129744.0000\n",
            "loss : 0.25074583292007446\n",
            "mean_absolute_percentage_error : 248129744.0\n"
          ]
        }
      ]
    },
    {
      "cell_type": "code",
      "source": [
        "model.fit(x_train,y_train, batch_size=32, epochs=30, validation_data=(x_val,y_val))"
      ],
      "metadata": {
        "colab": {
          "base_uri": "https://localhost:8080/"
        },
        "id": "Llp4yVY16_7f",
        "outputId": "32dbedb3-40fc-42cc-b0dd-0a6a67844ab4"
      },
      "execution_count": 30,
      "outputs": [
        {
          "output_type": "stream",
          "name": "stdout",
          "text": [
            "Epoch 1/30\n",
            "188/188 [==============================] - 1s 5ms/step - loss: 0.2510 - mean_absolute_percentage_error: 248307424.0000 - val_loss: 0.2509 - val_mean_absolute_percentage_error: 238203904.0000\n",
            "Epoch 2/30\n",
            "188/188 [==============================] - 1s 4ms/step - loss: 0.2508 - mean_absolute_percentage_error: 247150112.0000 - val_loss: 0.2507 - val_mean_absolute_percentage_error: 256279008.0000\n",
            "Epoch 3/30\n",
            "188/188 [==============================] - 1s 3ms/step - loss: 0.2504 - mean_absolute_percentage_error: 248808480.0000 - val_loss: 0.2508 - val_mean_absolute_percentage_error: 236516064.0000\n",
            "Epoch 4/30\n",
            "188/188 [==============================] - 1s 4ms/step - loss: 0.2504 - mean_absolute_percentage_error: 247580048.0000 - val_loss: 0.2510 - val_mean_absolute_percentage_error: 233314832.0000\n",
            "Epoch 5/30\n",
            "188/188 [==============================] - 1s 4ms/step - loss: 0.2501 - mean_absolute_percentage_error: 247438112.0000 - val_loss: 0.2510 - val_mean_absolute_percentage_error: 232788592.0000\n",
            "Epoch 6/30\n",
            "188/188 [==============================] - 1s 3ms/step - loss: 0.2505 - mean_absolute_percentage_error: 246719120.0000 - val_loss: 0.2500 - val_mean_absolute_percentage_error: 244000208.0000\n",
            "Epoch 7/30\n",
            "188/188 [==============================] - 1s 4ms/step - loss: 0.2502 - mean_absolute_percentage_error: 249545360.0000 - val_loss: 0.2500 - val_mean_absolute_percentage_error: 242449232.0000\n",
            "Epoch 8/30\n",
            "188/188 [==============================] - 1s 4ms/step - loss: 0.2504 - mean_absolute_percentage_error: 247566960.0000 - val_loss: 0.2497 - val_mean_absolute_percentage_error: 246771536.0000\n",
            "Epoch 9/30\n",
            "188/188 [==============================] - 1s 4ms/step - loss: 0.2501 - mean_absolute_percentage_error: 248477552.0000 - val_loss: 0.2496 - val_mean_absolute_percentage_error: 245987072.0000\n",
            "Epoch 10/30\n",
            "188/188 [==============================] - 1s 3ms/step - loss: 0.2500 - mean_absolute_percentage_error: 247832400.0000 - val_loss: 0.2498 - val_mean_absolute_percentage_error: 241134624.0000\n",
            "Epoch 11/30\n",
            "188/188 [==============================] - 1s 3ms/step - loss: 0.2498 - mean_absolute_percentage_error: 246050144.0000 - val_loss: 0.2504 - val_mean_absolute_percentage_error: 263474720.0000\n",
            "Epoch 12/30\n",
            "188/188 [==============================] - 1s 3ms/step - loss: 0.2499 - mean_absolute_percentage_error: 249110848.0000 - val_loss: 0.2495 - val_mean_absolute_percentage_error: 252398608.0000\n",
            "Epoch 13/30\n",
            "188/188 [==============================] - 1s 4ms/step - loss: 0.2498 - mean_absolute_percentage_error: 249448592.0000 - val_loss: 0.2495 - val_mean_absolute_percentage_error: 243922304.0000\n",
            "Epoch 14/30\n",
            "188/188 [==============================] - 1s 4ms/step - loss: 0.2497 - mean_absolute_percentage_error: 249005648.0000 - val_loss: 0.2498 - val_mean_absolute_percentage_error: 238098704.0000\n",
            "Epoch 15/30\n",
            "188/188 [==============================] - 1s 3ms/step - loss: 0.2497 - mean_absolute_percentage_error: 248654592.0000 - val_loss: 0.2495 - val_mean_absolute_percentage_error: 241269424.0000\n",
            "Epoch 16/30\n",
            "188/188 [==============================] - 1s 4ms/step - loss: 0.2497 - mean_absolute_percentage_error: 248132928.0000 - val_loss: 0.2492 - val_mean_absolute_percentage_error: 249489776.0000\n",
            "Epoch 17/30\n",
            "188/188 [==============================] - 1s 3ms/step - loss: 0.2495 - mean_absolute_percentage_error: 248669728.0000 - val_loss: 0.2493 - val_mean_absolute_percentage_error: 254321984.0000\n",
            "Epoch 18/30\n",
            "188/188 [==============================] - 1s 7ms/step - loss: 0.2495 - mean_absolute_percentage_error: 249236976.0000 - val_loss: 0.2492 - val_mean_absolute_percentage_error: 243870960.0000\n",
            "Epoch 19/30\n",
            "188/188 [==============================] - 1s 8ms/step - loss: 0.2497 - mean_absolute_percentage_error: 247817392.0000 - val_loss: 0.2492 - val_mean_absolute_percentage_error: 242948144.0000\n",
            "Epoch 20/30\n",
            "188/188 [==============================] - 2s 8ms/step - loss: 0.2494 - mean_absolute_percentage_error: 248892496.0000 - val_loss: 0.2492 - val_mean_absolute_percentage_error: 241879328.0000\n",
            "Epoch 21/30\n",
            "188/188 [==============================] - 1s 7ms/step - loss: 0.2494 - mean_absolute_percentage_error: 247956416.0000 - val_loss: 0.2490 - val_mean_absolute_percentage_error: 247199056.0000\n",
            "Epoch 22/30\n",
            "188/188 [==============================] - 2s 9ms/step - loss: 0.2493 - mean_absolute_percentage_error: 249037504.0000 - val_loss: 0.2491 - val_mean_absolute_percentage_error: 254598112.0000\n",
            "Epoch 23/30\n",
            "188/188 [==============================] - 1s 7ms/step - loss: 0.2496 - mean_absolute_percentage_error: 248470016.0000 - val_loss: 0.2490 - val_mean_absolute_percentage_error: 243694032.0000\n",
            "Epoch 24/30\n",
            "188/188 [==============================] - 1s 5ms/step - loss: 0.2494 - mean_absolute_percentage_error: 249650256.0000 - val_loss: 0.2489 - val_mean_absolute_percentage_error: 246249824.0000\n",
            "Epoch 25/30\n",
            "188/188 [==============================] - 1s 4ms/step - loss: 0.2495 - mean_absolute_percentage_error: 247173632.0000 - val_loss: 0.2503 - val_mean_absolute_percentage_error: 267316704.0000\n",
            "Epoch 26/30\n",
            "188/188 [==============================] - 2s 11ms/step - loss: 0.2493 - mean_absolute_percentage_error: 249141600.0000 - val_loss: 0.2495 - val_mean_absolute_percentage_error: 262088208.0000\n",
            "Epoch 27/30\n",
            "188/188 [==============================] - 1s 7ms/step - loss: 0.2494 - mean_absolute_percentage_error: 249581184.0000 - val_loss: 0.2488 - val_mean_absolute_percentage_error: 251771008.0000\n",
            "Epoch 28/30\n",
            "188/188 [==============================] - 2s 8ms/step - loss: 0.2491 - mean_absolute_percentage_error: 249871248.0000 - val_loss: 0.2490 - val_mean_absolute_percentage_error: 241568960.0000\n",
            "Epoch 29/30\n",
            "188/188 [==============================] - 2s 8ms/step - loss: 0.2492 - mean_absolute_percentage_error: 248022368.0000 - val_loss: 0.2488 - val_mean_absolute_percentage_error: 246280064.0000\n",
            "Epoch 30/30\n",
            "188/188 [==============================] - 1s 7ms/step - loss: 0.2492 - mean_absolute_percentage_error: 247332128.0000 - val_loss: 0.2496 - val_mean_absolute_percentage_error: 263884848.0000\n"
          ]
        },
        {
          "output_type": "execute_result",
          "data": {
            "text/plain": [
              "<keras.callbacks.History at 0x7fbdfb88a650>"
            ]
          },
          "metadata": {},
          "execution_count": 30
        }
      ]
    },
    {
      "cell_type": "code",
      "source": [
        "results=model.evaluate(x_test,y_test)\n",
        "\n",
        "for i in range(len(model.metrics_names)):\n",
        "  print(model.metrics_names[i],':',results[i])"
      ],
      "metadata": {
        "id": "zc7WGY_97ZHW",
        "outputId": "0efc6a5a-22f2-4284-b520-6214b0b38090",
        "colab": {
          "base_uri": "https://localhost:8080/"
        }
      },
      "execution_count": 33,
      "outputs": [
        {
          "output_type": "stream",
          "name": "stdout",
          "text": [
            "63/63 [==============================] - 0s 1ms/step - loss: 0.2509 - mean_absolute_percentage_error: 263931488.0000\n",
            "loss : 0.25088509917259216\n",
            "mean_absolute_percentage_error : 263931488.0\n"
          ]
        }
      ]
    },
    {
      "cell_type": "code",
      "source": [
        ""
      ],
      "metadata": {
        "id": "lRHzZUYG71vb"
      },
      "execution_count": null,
      "outputs": []
    }
  ]
}